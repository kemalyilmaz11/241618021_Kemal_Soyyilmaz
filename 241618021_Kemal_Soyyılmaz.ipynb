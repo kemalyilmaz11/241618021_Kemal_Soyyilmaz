{
  "nbformat": 4,
  "nbformat_minor": 0,
  "metadata": {
    "colab": {
      "provenance": [],
      "authorship_tag": "ABX9TyM8lXIMToQiUW1bitMaF76Q",
      "include_colab_link": true
    },
    "kernelspec": {
      "name": "python3",
      "display_name": "Python 3"
    },
    "language_info": {
      "name": "python"
    }
  },
  "cells": [
    {
      "cell_type": "markdown",
      "metadata": {
        "id": "view-in-github",
        "colab_type": "text"
      },
      "source": [
        "<a href=\"https://colab.research.google.com/github/kemalyilmaz11/241618021_Kemal_Soyyilmaz/blob/main/241618021_Kemal_Soyy%C4%B1lmaz.ipynb\" target=\"_parent\"><img src=\"https://colab.research.google.com/assets/colab-badge.svg\" alt=\"Open In Colab\"/></a>"
      ]
    },
    {
      "cell_type": "code",
      "source": [
        "global veri\n",
        "veri = {}\n",
        "no = 1\n",
        "\n",
        "def menu_goster():\n",
        "    print(\"\"\"\\n----------------\n",
        "|1. Yeni Öğrenci Ekle\n",
        "|2. Öğrenci Listesini Görüntüle\n",
        "|3. Not Analizini Gör\n",
        "|4. Çıkış\n",
        "-----------------\\n\n",
        "\"\"\")"
      ],
      "metadata": {
        "id": "SOpik2YgmYBR"
      },
      "execution_count": 27,
      "outputs": []
    },
    {
      "cell_type": "code",
      "source": [
        "def yeni_ogrenci_ekle():\n",
        "    global no\n",
        "\n",
        "    ogrenci_ad = input(\"\\nİsminizi Giriniz: \")\n",
        "    ogrenci_soyad = input(\"Soyadınızı Giriniz: \")\n",
        "\n",
        "    while True:\n",
        "        try:\n",
        "            ogrenci_numarasi = input(\"Öğrenci numaranızı giriniz (3 haneli olmalı): \")\n",
        "\n",
        "            if not ogrenci_numarasi.isdigit():\n",
        "                raise ValueError(\"Öğrenci numarası sadece rakamlardan oluşmalıdır.\")\n",
        "\n",
        "            if len(ogrenci_numarasi) != 3:\n",
        "                raise ValueError(\"Öğrenci numarası 3 haneli olmalıdır.\")\n",
        "\n",
        "            if ogrenci_numarasi in [str(veri[key][2]) for key in veri]:\n",
        "                raise ValueError(f\"Bu öğrenci numarası ({ogrenci_numarasi}) zaten kayıtlı. Kayıt reddedildi.\")\n",
        "\n",
        "            ogrenci_numarasi = int(ogrenci_numarasi)\n",
        "            break\n",
        "\n",
        "        except ValueError as e:\n",
        "            print(f\"Hata: {e}\")\n",
        "\n",
        "    while True:\n",
        "        try:\n",
        "            notu = int(input(\"Öğrencinin notunu giriniz (0-100 arasında): \"))\n",
        "\n",
        "            if notu < 0 or notu > 100:\n",
        "                raise ValueError(\"Not 0 ile 100 arasında olmalıdır.\")\n",
        "\n",
        "            break\n",
        "\n",
        "        except ValueError as e:\n",
        "            print(f\"Hata: {e}\")\n",
        "\n",
        "    veri[no] = [ogrenci_ad, ogrenci_soyad, ogrenci_numarasi, notu]\n",
        "    no += 1\n"
      ],
      "metadata": {
        "id": "J41MOsYQmiIs"
      },
      "execution_count": 28,
      "outputs": []
    },
    {
      "cell_type": "code",
      "source": [
        "def ogrenci_listesini_goruntule():\n",
        "    if not veri:\n",
        "        print(\"\\nHenüz öğrenci eklenmedi...\\n\")\n",
        "        return\n",
        "\n",
        "    for key in sorted(veri):\n",
        "        print(f\" Ad: {veri[key][0]}, Soyad: {veri[key][1]}, Numarası: {veri[key][2]}, Not: {veri[key][3]}\")\n"
      ],
      "metadata": {
        "id": "e_NZn0lTmklh"
      },
      "execution_count": 29,
      "outputs": []
    },
    {
      "cell_type": "code",
      "source": [
        "def not_analizini_gor():\n",
        "    if not veri:\n",
        "        print(\"\\nHenüz öğrenci eklenmedi, bu nedenle analiz yapılamaz.\\n\")\n",
        "        return\n",
        "\n",
        "    notlar = [veri[key][3] for key in veri]\n",
        "\n",
        "    en_yuksek = max(notlar)\n",
        "    en_dusuk = min(notlar)\n",
        "    sinif_ortalama = sum(notlar) / len(notlar)\n",
        "\n",
        "    print(f\"\\nEn Yüksek Not: {en_yuksek}\")\n",
        "    print(f\"En Düzük Not: {en_dusuk}\")\n",
        "    print(f\"Sınıf Ortalaması: {sinif_ortalama:.2f}\\n\")\n"
      ],
      "metadata": {
        "id": "B_OzO4gfmnCQ"
      },
      "execution_count": 30,
      "outputs": []
    },
    {
      "cell_type": "code",
      "source": [
        "def program_sonlandir():\n",
        "    print(\"Program sonlandırılıyor...\")\n",
        "    return True"
      ],
      "metadata": {
        "id": "6z3NQNjfsTAL"
      },
      "execution_count": 31,
      "outputs": []
    },
    {
      "cell_type": "code",
      "source": [
        "def secim_yap(secim):\n",
        "    if secim == 1:\n",
        "        yeni_ogrenci_ekle()\n",
        "    elif secim == 2:\n",
        "        ogrenci_listesini_goruntule()\n",
        "    elif secim == 3:\n",
        "        not_analizini_gor()\n",
        "    elif secim == 4:\n",
        "        program_sonlandir()\n",
        "        return True\n",
        "    else:\n",
        "        print(\"Geçersiz seçim! Lütfen 1 ile 4 arasında bir seçim yapın.\")\n",
        "        return False"
      ],
      "metadata": {
        "id": "zv1KVCMDsTv_"
      },
      "execution_count": 32,
      "outputs": []
    },
    {
      "cell_type": "code",
      "source": [
        "def main():\n",
        "    while True:\n",
        "        menu_goster()\n",
        "        try:\n",
        "            secim = int(input(\"Lütfen seçiminizi giriniz [1-4]: \"))\n",
        "            if secim_yap(secim):\n",
        "                break  # Kullanıcı 4'ü seçtiğinde döngüden çık.\n",
        "        except ValueError:\n",
        "            print(\"Geçersiz girdi! Lütfen 1 ile 4 arasında bir sayı giriniz.\")\n",
        "\n",
        "if __name__ == \"__main__\":\n",
        "    main()"
      ],
      "metadata": {
        "colab": {
          "base_uri": "https://localhost:8080/"
        },
        "id": "n6bdqzB5sZFr",
        "outputId": "750066e9-e8b1-4a7d-cecf-9c85dee876dd"
      },
      "execution_count": 33,
      "outputs": [
        {
          "output_type": "stream",
          "name": "stdout",
          "text": [
            "\n",
            "----------------\n",
            "|1. Yeni Öğrenci Ekle\n",
            "|2. Öğrenci Listesini Görüntüle\n",
            "|3. Not Analizini Gör\n",
            "|4. Çıkış\n",
            "-----------------\n",
            "\n",
            "\n",
            "Lütfen seçiminizi giriniz [1-4]: 2\n",
            "\n",
            "Henüz öğrenci eklenmedi...\n",
            "\n",
            "\n",
            "----------------\n",
            "|1. Yeni Öğrenci Ekle\n",
            "|2. Öğrenci Listesini Görüntüle\n",
            "|3. Not Analizini Gör\n",
            "|4. Çıkış\n",
            "-----------------\n",
            "\n",
            "\n",
            "Lütfen seçiminizi giriniz [1-4]: 4\n",
            "Program sonlandırılıyor...\n"
          ]
        }
      ]
    }
  ]
}